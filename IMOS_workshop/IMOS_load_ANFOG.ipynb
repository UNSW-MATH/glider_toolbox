{
 "cells": [
  {
   "cell_type": "markdown",
   "metadata": {},
   "source": [
    "<img src=\"IMOS_logo.png\" alt=\"IMOS logo\" width=\"200\" height=\"200\">\n",
    "\n",
    "<img src=\"ANFOG_logo.png\" alt=\"ANFOG logo\" width=\"400\" height=\"400\">\n",
    "\n",
    "<img src=\"AODN_logo.png\" alt=\"AODN logo\" width=\"200\" height=\"200\">\n",
    "\n",
    "\n",
    "# <font color=#3498DB> TUTORIAL\n",
    "\n",
    "-------------------------------------------------\n",
    "<br>\n",
    "\n",
    "### Ocean gliders have been used by the Integrated Marine Observing System (IMOS) since 2008. They allow the collection of high-resolution information in space (depth, longitude, latitude) and in time. \n",
    "\n",
    "### The Australian National Facility for Ocean Gliders (ANFOG) is responsible for the operation and maintenance of the ocean glider fleet, whilst the Australian Ocean Data Network (AODN) is responsible for making glider data available for anyone to download through the portal. \n",
    "\n",
    "### This Notebook is a guide on how to access and plot the ocean glider data.\n",
    "\n",
    "<br>\n",
    "<br>\n",
    "\n",
    "### In this tutorial, you will:\n",
    "<br>\n",
    "\n",
    "* ## Search and download AODN ANFOG glider data\n",
    "\n",
    "* ## Load ANFOG data into python \n",
    "\n",
    "* ## Look through ANFOG netCDF file data and attributes\n",
    "\n",
    "* ## Produce plots\n",
    "\n",
    "* ## Save modified data as netCDF file\n",
    "\n",
    "<br>\n",
    "<br>"
   ]
  },
  {
   "cell_type": "markdown",
   "metadata": {},
   "source": [
    "# <font color=#3498DB> Before Starting\n",
    "\n",
    "------\n",
    "<br>\n",
    "\n",
    "## Please ensure that you have installed the following packages packages:\n",
    "\n",
    "* ### xarray\n",
    "* ### pandas\n",
    "* ### cmocean \n",
    "* ### cartopy\n",
    "* ### netcdf4\n",
    "\n",
    "## You can do this in one go using the following code in a terminal:\n",
    "\n",
    "<br>\n",
    "<br>\n",
    "<div style=\"background:#D1F2EB;padding:5px;\">   \n",
    "<h3> conda create -n imos_workshop -c conda-forge jupyter xarray cmocean netCDF4 cartopy pandas\n",
    "<h3> conda activate imos_workshop\n",
    "</div>\n",
    "\n",
    "## Or you can manually add the individual packages required:\n",
    "<br>\n",
    "<div style=\"background:#D1F2EB;padding:5px;\">    \n",
    "<h3>conda install -c conda-forge <span style=\"color:blue\">package\n",
    "    </div>\n",
    "    \n",
    "<h2>Please make sure that you have <span style=\"color:red\"> activated the 'imos_workshop' environment <span style=\"color:black\"> before proceeding.\n",
    "    <br>\n",
    "    <br>\n",
    "    <br>"
   ]
  },
  {
   "cell_type": "markdown",
   "metadata": {},
   "source": [
    "\n",
    "# <font color=#3498DB> Search and download AODN data\n",
    "______________    \n",
    "    \n",
    "<br>\n",
    "<br>\n",
    "\n",
    "<h3>ANFOG stands for 'Australian National Facility for Ocean Gliders'.\n",
    "<h3>You can download ANFOG netCDF files from the Australian Ocean Data Network (<a href=\"https://portal.aodn.org.au/\">AODN website</a>).\n",
    "\n",
    "<br>\n",
    "<br>\n",
    "\n",
    "### When on the AODN portal navigate and select the Heron 2015 deployment for download:\n",
    "\n",
    "<br>\n",
    "\n",
    "### Steps:\n",
    "<br>\n",
    "<div style=\"background:#D1F2EB;padding:5px;\">   \n",
    " <ol>\n",
    "  <h3>   \n",
    "  <li>Get Ocean Data Now  </li>\n",
    "  <br>    \n",
    "  <li>Platform -> glider </li>\n",
    "  <br>\n",
    "  <li>Dataset -> IMOS - 'Australian National Facility for Ocean Gliders (ANFOG) - delayed mode glider deployments' \n",
    "  <br>  \n",
    "  <br>    \n",
    "  <li>Deployment -> 'Heron20150521' </li> \n",
    "  <br>    \n",
    "</li>\n",
    "</ol>\n",
    "</div>\n",
    "\n",
    "# After download:\n",
    "\n",
    "## filename: \n",
    "### IMOS_-_Australian_National_Facility_for_Ocean_Gliders_(ANFOG)_-_delayed_mode_glider_deployments_source_files.zip\n",
    "### unzip -> IMOS_ANFOG_BCEOPSTUVN_20150521T004128Z_SL416_FV01_timeseries_END-20150530T131213Z.nc\n"
   ]
  },
  {
   "cell_type": "markdown",
   "metadata": {},
   "source": [
    "# <font color=#3498DB> Load ANFOG data into python"
   ]
  },
  {
   "cell_type": "markdown",
   "metadata": {},
   "source": [
    "### Now we are going to load in the ANFOG Heron Island netCDF file we just downloaded from the AODN\n",
    "<br>\n",
    "\n",
    "### To do this, and the other things we plan to do later, we need to import the previously installed python packages:\n",
    "<br>\n",
    "<div style=\"background:#D1F2EB;padding:5px;\">   \n",
    "<h3><a href=\"http://xarray.pydata.org/en/stable/\">xarray</a>: makes working with labelled multi-dimensional arrays simple, efficient, and fun!\n",
    "<h3><a href=\"https://pandas.pydata.org/\">pandas</a>: high-performance, easy-to-use data structures and data analysis tools for the Python programming language\n",
    "<h3><a href=\"https://matplotlib.org/\">matplotlib</a>: 2D plotting library which produces publication quality figures in a variety of hardcopy formats and interactive environments across platforms\n",
    "\n",
    "<h3><a href=\"https://matplotlib.org/cmocean/\">cmocean</a>: perceptually uniform colormaps\n",
    "<h3><a href=\"https://scitools.org.uk/cartopy/docs/latest/\">cartopy</a>: designed for geospatial data processing in order to produce maps and other geospatial data analyses    \n",
    "<h3><a href=\"https://unidata.github.io/netcdf4-python/netCDF4/index.html\">netcdf4</a>: Python interface to the netCDF C library    \n",
    "<h3><a href=\"https://www.numpy.org/\">numpy</a>:  a fundamental package for scientific computing with Python\n",
    "</div>\n",
    "<br>\n",
    "<br>\n"
   ]
  },
  {
   "cell_type": "code",
   "execution_count": null,
   "metadata": {},
   "outputs": [],
   "source": [
    "# for loading data and calculations\n",
    "import xarray as xr\n",
    "import pandas as pd\n",
    "import numpy as np\n",
    "# for plotting timeseries and scatter plots\n",
    "import matplotlib.pyplot as plt\n",
    "import matplotlib as mat\n",
    "import matplotlib.dates as mdates\n",
    "from pandas.plotting import register_matplotlib_converters\n",
    "register_matplotlib_converters()\n",
    "import cmocean\n",
    "# for plotting glider locations with map\n",
    "import cartopy.crs as ccrs\n",
    "import cartopy.io.img_tiles as cimgt\n",
    "from cartopy.io.shapereader import Reader\n",
    "from cartopy.feature import ShapelyFeature\n",
    "from cartopy.mpl.ticker import LongitudeFormatter, LatitudeFormatter\n",
    "from cartopy.mpl.gridliner import LONGITUDE_FORMATTER, LATITUDE_FORMATTER"
   ]
  },
  {
   "cell_type": "markdown",
   "metadata": {},
   "source": [
    "### Define name of file, load using xarray with one line of code"
   ]
  },
  {
   "cell_type": "code",
   "execution_count": null,
   "metadata": {},
   "outputs": [],
   "source": [
    "filename = 'IMOS_ANFOG_BCEOPSTUVN_20150521T004128Z_SL416_FV01_timeseries_END-20150530T131213Z.nc'\n",
    "glider_data = xr.open_dataset(filename)\n",
    "# convert from data set to data frame for easier plotting later\n",
    "glider_data_frame = xr.Dataset.to_dataframe(glider_data)"
   ]
  },
  {
   "cell_type": "markdown",
   "metadata": {},
   "source": [
    "# <font color=#3498DB> Look through netCDF file data and attributes"
   ]
  },
  {
   "cell_type": "markdown",
   "metadata": {},
   "source": [
    "### what is 'glider_data'?"
   ]
  },
  {
   "cell_type": "code",
   "execution_count": null,
   "metadata": {},
   "outputs": [],
   "source": [
    "type(glider_data)"
   ]
  },
  {
   "cell_type": "markdown",
   "metadata": {},
   "source": [
    "### xarray.Dataset is xarray’s multi-dimensional equivalent of a DataFrame. \n",
    "### It is a dict-like container of labeled arrays (DataArray objects) with aligned dimensions. \n",
    "### It is designed as an in-memory representation of the data model from the netCDF file format."
   ]
  },
  {
   "cell_type": "markdown",
   "metadata": {},
   "source": [
    "### Take a look at variable names and global attributes"
   ]
  },
  {
   "cell_type": "code",
   "execution_count": null,
   "metadata": {},
   "outputs": [],
   "source": [
    "glider_data"
   ]
  },
  {
   "cell_type": "code",
   "execution_count": null,
   "metadata": {},
   "outputs": [],
   "source": [
    "type(glider_data_frame)"
   ]
  },
  {
   "cell_type": "markdown",
   "metadata": {},
   "source": [
    "### This is a pandas.DataFrame.\n",
    "\n",
    "### The DataFrame is indexed by the Cartesian product of index coordinates (in the form of a pandas.MultiIndex).\n",
    "\n",
    "### Other coordinates are included as columns in the DataFrame."
   ]
  },
  {
   "cell_type": "code",
   "execution_count": null,
   "metadata": {},
   "outputs": [],
   "source": [
    "glider_data_frame"
   ]
  },
  {
   "cell_type": "code",
   "execution_count": null,
   "metadata": {},
   "outputs": [],
   "source": [
    "glider_data_frame['PSAL']"
   ]
  },
  {
   "cell_type": "markdown",
   "metadata": {},
   "source": [
    "#### -> Explore the temporal coverage and typical time step"
   ]
  },
  {
   "cell_type": "markdown",
   "metadata": {},
   "source": [
    "### Take a look at variable-specific attributes"
   ]
  },
  {
   "cell_type": "code",
   "execution_count": null,
   "metadata": {},
   "outputs": [],
   "source": [
    "glider_data.TEMP"
   ]
  },
  {
   "cell_type": "markdown",
   "metadata": {},
   "source": [
    "#### -> Explore the differences between DOX1 and DOX2"
   ]
  },
  {
   "cell_type": "code",
   "execution_count": null,
   "metadata": {},
   "outputs": [],
   "source": [
    "glider_data.DOX1"
   ]
  },
  {
   "cell_type": "markdown",
   "metadata": {},
   "source": [
    "# <font color=#3498DB> Produce plots"
   ]
  },
  {
   "cell_type": "markdown",
   "metadata": {},
   "source": [
    "### Select variables of interest from glider data"
   ]
  },
  {
   "cell_type": "code",
   "execution_count": null,
   "metadata": {},
   "outputs": [],
   "source": [
    "TIME = glider_data.TIME\n",
    "PSAL = glider_data.PSAL\n",
    "O2_1 = glider_data.DOX1\n",
    "CPHL = glider_data.CPHL\n",
    "TEMP = glider_data.TEMP\n",
    "DEPTH = glider_data.DEPTH\n",
    "LON = glider_data.LONGITUDE\n",
    "LAT = glider_data.LATITUDE\n",
    "UCUR = glider_data.UCUR\n",
    "VCUR = glider_data.VCUR"
   ]
  },
  {
   "cell_type": "markdown",
   "metadata": {},
   "source": [
    "## create new QC variables and apply QC to data\n",
    "\n",
    "### In this example, we will apply QC ('good data' only) to the variables of interest\n",
    "<br> \n",
    "\n",
    "<img src=\"IMOSQC.png\" alt=\"QC table IMOS\" width=\"400\" height=\"400\">\n"
   ]
  },
  {
   "cell_type": "code",
   "execution_count": null,
   "metadata": {},
   "outputs": [],
   "source": [
    "# Temperature\n",
    "TEMP_QC_index = glider_data.PSAL_quality_control\n",
    "TEMP_QC = TEMP\n",
    "TEMP_QC[TEMP_QC_index != 1] = np.nan\n",
    "percent = 100 - (np.sum(np.isnan(TEMP_QC)) / len(TEMP)*100)\n",
    "print(str(np.int(percent)) + \"% of TEMP data points have 'good' QC\")\n",
    "# Salinity\n",
    "PSAL_QC_index = glider_data.PSAL_quality_control\n",
    "PSAL_QC = PSAL\n",
    "PSAL_QC[PSAL_QC_index != 1] = np.nan\n",
    "percent = 100 - (np.sum(np.isnan(PSAL_QC)) / len(PSAL)*100)\n",
    "print(str(np.int(percent)) + \"% of PSAL data points have 'good' QC\")\n",
    "# Chlorophyll\n",
    "CPHL_QC_index = glider_data.CPHL_quality_control\n",
    "CPHL_QC = CPHL\n",
    "CPHL_QC[CPHL_QC_index != 1] = np.nan\n",
    "percent = 100 - (np.sum(np.isnan(CPHL_QC)) / len(CPHL)*100)\n",
    "print(str(np.int(percent)) + \"% of CPHL data points have 'good' QC\")"
   ]
  },
  {
   "cell_type": "code",
   "execution_count": null,
   "metadata": {},
   "outputs": [],
   "source": [
    "# UCUR\n",
    "UCUR_QC_index = glider_data.UCUR_quality_control"
   ]
  },
  {
   "cell_type": "markdown",
   "metadata": {},
   "source": [
    "### It is possible that the QC is different for each variable. This is the case for our UCUR in our example.\n",
    "\n",
    "#### Note that there is only one UCUR estimate per dive that represents the depth-mean velocity between surfacings, whereas other variables (e.g. temperature) are measured throughout the dive. "
   ]
  },
  {
   "cell_type": "code",
   "execution_count": null,
   "metadata": {},
   "outputs": [],
   "source": [
    "# create plot to look at QC flags\n",
    "plt.figure(figsize=(15,7.5))\n",
    "plt.plot_date(TIME,UCUR_QC_index)"
   ]
  },
  {
   "cell_type": "code",
   "execution_count": null,
   "metadata": {},
   "outputs": [],
   "source": [
    "#apply QC to UCUR \n",
    "UCUR_QC = UCUR\n",
    "UCUR_QC[UCUR_QC_index > 1] = np.nan\n",
    "percent = 100 - (np.sum(np.isnan(UCUR_QC)) / len(UCUR)*100)\n",
    "print(str(percent) + \"% of UCUR data points have 'good' QC\")"
   ]
  },
  {
   "cell_type": "markdown",
   "metadata": {},
   "source": [
    "### -> Can you see what's different about this? ^^"
   ]
  },
  {
   "cell_type": "code",
   "execution_count": null,
   "metadata": {},
   "outputs": [],
   "source": [
    "type(TEMP_QC)"
   ]
  },
  {
   "cell_type": "code",
   "execution_count": null,
   "metadata": {},
   "outputs": [],
   "source": [
    "TEMP_QC"
   ]
  },
  {
   "cell_type": "markdown",
   "metadata": {},
   "source": [
    "### Glider locations"
   ]
  },
  {
   "cell_type": "code",
   "execution_count": null,
   "metadata": {
    "scrolled": true
   },
   "outputs": [],
   "source": [
    "# get lon/lat min and max for setting axis limits\n",
    "LONG_min = xr.DataArray.min(glider_data.LONGITUDE)\n",
    "LONG_max = xr.DataArray.min(glider_data.LONGITUDE)\n",
    "LAT_min = xr.DataArray.min(glider_data.LATITUDE)\n",
    "LAT_max = xr.DataArray.min(glider_data.LATITUDE)\n",
    "# Use the Stamen terrain projection\n",
    "stamen_terrain = cimgt.Stamen('terrain-background')\n",
    "# Create figure with specific size\n",
    "fig = plt.figure(figsize=(7.5, 30))\n",
    "# specify Stamen terrain projection\n",
    "ax1 = plt.axes(projection=stamen_terrain.crs)  \n",
    "# set x and y limits\n",
    "ax1.set_extent([LONG_min-2,LONG_max+2, LAT_min-1, LAT_max+1], crs=ccrs.PlateCarree())\n",
    "# add stamen terrain colormap\n",
    "ax1.add_image(stamen_terrain, 8)\n",
    "# format axes to show degrees\n",
    "ax1.gridlines(draw_labels=True)\n",
    "lon_formatter = LongitudeFormatter()\n",
    "lat_formatter = LatitudeFormatter()\n",
    "ax1.xaxis.set_major_formatter(lon_formatter)\n",
    "ax1.yaxis.set_major_formatter(lat_formatter)\n",
    "# change fontsize\n",
    "plt.rcParams.update({'font.size': 10})\n",
    "# plot glider locations in blue\n",
    "ax1.plot(glider_data.LONGITUDE,glider_data.LATITUDE,marker='o',color='b',markersize=1,\n",
    "        transform=ccrs.PlateCarree(),label='Glider data', linestyle='None')"
   ]
  },
  {
   "cell_type": "markdown",
   "metadata": {},
   "source": [
    "### Create T-S diagram"
   ]
  },
  {
   "cell_type": "markdown",
   "metadata": {},
   "source": [
    "### & example of looking at a plot interactively"
   ]
  },
  {
   "cell_type": "code",
   "execution_count": null,
   "metadata": {},
   "outputs": [],
   "source": [
    "%matplotlib notebook"
   ]
  },
  {
   "cell_type": "code",
   "execution_count": null,
   "metadata": {},
   "outputs": [],
   "source": [
    "# create figure with specific size\n",
    "plt.figure(figsize=(5,5))\n",
    "# scatter TEMP vs. PSAL\n",
    "plt.scatter(PSAL_QC,TEMP_QC)\n",
    "# add axis labels\n",
    "plt.xlabel('Practical Salinity')\n",
    "plt.ylabel('Seawater temperature [deg C]')\n",
    "# reduce number of ticks\n",
    "locs, labels = plt.xticks()\n",
    "plt.xticks(locs[::2])"
   ]
  },
  {
   "cell_type": "code",
   "execution_count": null,
   "metadata": {},
   "outputs": [],
   "source": [
    "%matplotlib inline"
   ]
  },
  {
   "cell_type": "markdown",
   "metadata": {},
   "source": [
    "### Create timeseries plot"
   ]
  },
  {
   "cell_type": "code",
   "execution_count": null,
   "metadata": {},
   "outputs": [],
   "source": [
    "# create figure with set size\n",
    "plt.figure(figsize=(20,10))\n",
    "# plot TEMP  timeseries\n",
    "plt.plot(TIME,TEMP_QC,marker='o',markersize=3)\n",
    "# create axis labels\n",
    "plt.xlabel('Time')\n",
    "plt.ylabel('Seawater Temperature [deg C]')\n",
    "# get locations and labels of x-axis ticks\n",
    "locs, labels = plt.xticks()\n",
    "# change the frequency of the xtick to every 2nd element in previous tick array (locs)\n",
    "plt.xticks(locs[::2])\n",
    "# change time python number to date string (showing mday and month)\n",
    "plt.gca().xaxis.set_major_formatter(mdates.DateFormatter('%d/%m'))\n",
    "# add a grid\n",
    "plt.grid(True)"
   ]
  },
  {
   "cell_type": "markdown",
   "metadata": {},
   "source": [
    "### Create transect plot of TEMP, PSAL, and CHL"
   ]
  },
  {
   "cell_type": "code",
   "execution_count": null,
   "metadata": {},
   "outputs": [],
   "source": [
    "##############\n",
    "# PSAL\n",
    "##############\n",
    "\n",
    "# create figure with specific size and 3 horizontal subplots\n",
    "fig, ax = plt.subplots(3,1,figsize=(10,15))\n",
    "# set subplot colormap using cmocean library of perceptually uniformap color maps\n",
    "cmap_haline = cmocean.cm.haline\n",
    "# define scatter settings here\n",
    "shortcut = dict(s=20, c=glider_data_frame['PSAL'], \n",
    "                marker='o', edgecolor='none',cmap=cmap_haline,\n",
    "                vmin=35.5,vmax=35.6)\n",
    "# scatter time vs depth colored by PSAL\n",
    "cs1 = ax[0].scatter(glider_data_frame.index, glider_data_frame['DEPTH'], **shortcut)\n",
    "# flip y-axis \n",
    "ax[0].invert_yaxis()\n",
    "# set subplot labels\n",
    "ax[0].set_ylabel('Depth [m]')\n",
    "# set subplot axis limits\n",
    "ax[0].set_xlim(glider_data_frame.index[0], glider_data_frame.index[-1])\n",
    "ax[0].set_ylim(210, -1)\n",
    "# reduce frequency of Xticks to reduce text overlap\n",
    "start, end = ax[0].get_xlim()\n",
    "# every 2nd tick between start and end ticks\n",
    "ax[0].xaxis.set_ticks(np.arange(start, end, 2))\n",
    "# display date string rather than number\n",
    "ax[0].xaxis.set_major_formatter(mdates.DateFormatter('%d/%m'))\n",
    "# set background to black\n",
    "ax[0].set_facecolor((0,0,0))\n",
    "# change fontsize to size 14\n",
    "for item in ([ax[0].title, ax[0].xaxis.label, ax[0].yaxis.label] +\n",
    "              ax[0].get_xticklabels() + ax[0].get_yticklabels()):\n",
    "    item.set_fontsize(14)\n",
    "# create corresponding colorbar and label\n",
    "cbar = plt.colorbar(cs1,orientation='vertical',ax=ax[0])\n",
    "cbar.ax.set_ylabel('Practical Salinity',fontsize=16)\n",
    "\n",
    "#%%%%%%%%%%%%%%%%%%%%%%%%%%%%%%%%%%%%%%%%%%%%%%%%%%%%%%%%%%%%%%%%%%%%%%%%%%%%%%%%%%%%%%%%%%%%%%%%%%%%%\n",
    "\n",
    "##############\n",
    "# TEMP\n",
    "##############\n",
    "\n",
    "# set subplot colormap using cmocean library of perceptually uniformap color maps\n",
    "cmap_thermal = cmocean.cm.thermal\n",
    "# define scatter settings here\n",
    "shortcut = dict(s=20, c=glider_data_frame['TEMP'], \n",
    "                marker='o', edgecolor='none',cmap=cmap_thermal,\n",
    "                vmin=19,vmax=25)\n",
    "# scatter time vs depth colored by PSAL\n",
    "cs2 = ax[1].scatter(glider_data_frame.index, glider_data_frame['DEPTH'], **shortcut)\n",
    "# flip y-axis \n",
    "ax[1].invert_yaxis()\n",
    "# set subplot labels\n",
    "ax[1].set_ylabel('Depth [m]')\n",
    "# set subplot axis limits\n",
    "ax[1].set_xlim(glider_data_frame.index[1], glider_data_frame.index[-1])\n",
    "ax[1].set_ylim(210, -1)\n",
    "# reduce frequency of Xticks to reduce text overlap\n",
    "start, end = ax[1].get_xlim()\n",
    "# every 2nd tick between start and end ticks\n",
    "ax[1].xaxis.set_ticks(np.arange(start, end, 2))\n",
    "# display date string rather than number\n",
    "ax[1].xaxis.set_major_formatter(mdates.DateFormatter('%d/%m'))\n",
    "# set background to black\n",
    "ax[1].set_facecolor((0,0,0))\n",
    "# change fontsize to size 14\n",
    "for item in ([ax[1].title, ax[1].xaxis.label, ax[1].yaxis.label] +\n",
    "              ax[1].get_xticklabels() + ax[1].get_yticklabels()):\n",
    "    item.set_fontsize(14)\n",
    "# create corresponding colorbar and label\n",
    "cbar = plt.colorbar(cs2,orientation='vertical',ax=ax[1])\n",
    "cbar.ax.set_ylabel('In situ temperature [$^\\circ$C]',fontsize=16)\n",
    "\n",
    "#%%%%%%%%%%%%%%%%%%%%%%%%%%%%%%%%%%%%%%%%%%%%%%%%%%%%%%%%%%%%%%%%%%%%%%%%%%%%%%%%%%%%%%%%%%%%%%%%%%%%%\n",
    "\n",
    "##############\n",
    "# CHL\n",
    "##############\n",
    "\n",
    "# set subplot colormap using cmocean library of perceptually uniformap color maps\n",
    "cmap_algae = cmocean.cm.algae\n",
    "# define scatter settings here\n",
    "shortcut = dict(s=20, c=glider_data_frame['CPHL'], \n",
    "                marker='o', edgecolor='none',cmap=cmap_algae,\n",
    "                vmin=0,vmax=1)\n",
    "# scatter time vs depth colored by CHL\n",
    "cs2 = ax[2].scatter(glider_data_frame.index, glider_data_frame['DEPTH'], **shortcut)\n",
    "# flip y-axis \n",
    "ax[2].invert_yaxis()\n",
    "# set subplot labels\n",
    "ax[2].set_ylabel('Depth [m]')\n",
    "ax[2].set_xlabel('Time')\n",
    "# set subplot axis limits\n",
    "ax[2].set_xlim(glider_data_frame.index[1], glider_data_frame.index[-1])\n",
    "ax[2].set_ylim(210, -1)\n",
    "# reduce frequency of Xticks to reduce text overlap\n",
    "start, end = ax[2].get_xlim()\n",
    "# every 2nd tick between start and end ticks\n",
    "ax[2].xaxis.set_ticks(np.arange(start, end, 2))\n",
    "# display date string rather than number\n",
    "ax[2].xaxis.set_major_formatter(mdates.DateFormatter('%d/%m'))\n",
    "# set background to black\n",
    "ax[2].set_facecolor((0,0,0))\n",
    "# change fontsize to size 14\n",
    "for item in ([ax[2].title, ax[2].xaxis.label, ax[2].yaxis.label] +\n",
    "              ax[2].get_xticklabels() + ax[2].get_yticklabels()):\n",
    "    item.set_fontsize(14)\n",
    "# create corresponding colorbar and label\n",
    "cbar = plt.colorbar(cs2,orientation='vertical',ax=ax[2])\n",
    "cbar.ax.set_ylabel('Chlorophyll fluorescence [mg$^{-3}$]',fontsize=16)"
   ]
  },
  {
   "cell_type": "markdown",
   "metadata": {},
   "source": [
    "### Save plot as PNG"
   ]
  },
  {
   "cell_type": "code",
   "execution_count": null,
   "metadata": {},
   "outputs": [],
   "source": [
    "fig.savefig('TEMP_PSAL_CHL_Heron.png', bbox_inches='tight')"
   ]
  },
  {
   "cell_type": "markdown",
   "metadata": {},
   "source": [
    "# <font color=#3498DB> Save modified data as netCDF file"
   ]
  },
  {
   "cell_type": "code",
   "execution_count": null,
   "metadata": {},
   "outputs": [],
   "source": [
    "mean_TEMP = glider_data.mean(dim='TIME')"
   ]
  },
  {
   "cell_type": "code",
   "execution_count": null,
   "metadata": {},
   "outputs": [],
   "source": [
    "mean_TEMP"
   ]
  },
  {
   "cell_type": "code",
   "execution_count": null,
   "metadata": {},
   "outputs": [],
   "source": [
    "new_filename = 'mean_TEMP.nc'\n",
    "mean_TEMP.to_netcdf(path=new_filename)"
   ]
  },
  {
   "cell_type": "markdown",
   "metadata": {},
   "source": [
    "### load in newly created 'mean_TEMP' file to test"
   ]
  },
  {
   "cell_type": "code",
   "execution_count": null,
   "metadata": {},
   "outputs": [],
   "source": [
    "test = xr.open_dataset(new_filename)"
   ]
  },
  {
   "cell_type": "code",
   "execution_count": null,
   "metadata": {},
   "outputs": [],
   "source": [
    "test.TEMP"
   ]
  },
  {
   "cell_type": "code",
   "execution_count": null,
   "metadata": {},
   "outputs": [],
   "source": [
    "test.CPHL"
   ]
  },
  {
   "cell_type": "code",
   "execution_count": null,
   "metadata": {},
   "outputs": [],
   "source": []
  }
 ],
 "metadata": {
  "kernelspec": {
   "display_name": "Python 3",
   "language": "python",
   "name": "python3"
  },
  "language_info": {
   "codemirror_mode": {
    "name": "ipython",
    "version": 3
   },
   "file_extension": ".py",
   "mimetype": "text/x-python",
   "name": "python",
   "nbconvert_exporter": "python",
   "pygments_lexer": "ipython3",
   "version": "3.7.3"
  },
  "varInspector": {
   "cols": {
    "lenName": 16,
    "lenType": 16,
    "lenVar": 40
   },
   "kernels_config": {
    "python": {
     "delete_cmd_postfix": "",
     "delete_cmd_prefix": "del ",
     "library": "var_list.py",
     "varRefreshCmd": "print(var_dic_list())"
    },
    "r": {
     "delete_cmd_postfix": ") ",
     "delete_cmd_prefix": "rm(",
     "library": "var_list.r",
     "varRefreshCmd": "cat(var_dic_list()) "
    }
   },
   "position": {
    "height": "740px",
    "left": "1557px",
    "right": "20px",
    "top": "128px",
    "width": "350px"
   },
   "types_to_exclude": [
    "module",
    "function",
    "builtin_function_or_method",
    "instance",
    "_Feature"
   ],
   "window_display": false
  }
 },
 "nbformat": 4,
 "nbformat_minor": 2
}
